{
 "cells": [
  {
   "cell_type": "markdown",
   "metadata": {},
   "source": [
    "### 不確定度的傳遞"
   ]
  },
  {
   "cell_type": "markdown",
   "metadata": {},
   "source": [
    "#### 不確定度計算函數"
   ]
  },
  {
   "cell_type": "code",
   "execution_count": 6,
   "metadata": {},
   "outputs": [
    {
     "name": "stdout",
     "output_type": "stream",
     "text": [
      "平均值: 22.44\n",
      "A類不確定度: 0.037\n",
      "真值範圍: 22.40~22.47\n"
     ]
    }
   ],
   "source": [
    "import numpy as np\n",
    "# function for uncertainty\n",
    "def uncetainty(data):\n",
    "    standard_deviation = np.std(data, ddof=1)\n",
    "    return standard_deviation / np.sqrt(len(data))\n",
    "data = np.array([22.31, 22.42, 22.47, 22.54, 22.44])\n",
    "mean = np.mean(data)\n",
    "unc = uncetainty(data)\n",
    "print(f'平均值: {mean:.2f}')\n",
    "print(f'A類不確定度: {unc:.3f}')"
   ]
  },
  {
   "cell_type": "markdown",
   "metadata": {},
   "source": [
    "#### 準備資料"
   ]
  },
  {
   "cell_type": "code",
   "execution_count": 76,
   "metadata": {},
   "outputs": [
    {
     "name": "stdout",
     "output_type": "stream",
     "text": [
      "x 的不確定度: 0.07\n",
      "y 的不確定度: 0.12\n"
     ]
    }
   ],
   "source": [
    "# data\n",
    "x = np.array([2.2, 1.8, 1.9, 2.1, 2])\n",
    "y = np.array([1.2, 1.3, 1.4, 1.5, 1.9])\n",
    "# x = np.array([1.2, 1.8, 1.9, 2.1, 2])\n",
    "# y = np.array([1, 1.3, 1.4, 1.5, 1.6])\n",
    "# uncertainty\n",
    "unc_x = uncetainty(x)\n",
    "unc_y = uncetainty(y)\n",
    "print(f\"x 的不確定度: {uncetainty(x):.2f}\")\n",
    "print(f\"y 的不確定度: {uncetainty(y):.2f}\")\n"
   ]
  },
  {
   "cell_type": "markdown",
   "metadata": {},
   "source": [
    "#### 加減"
   ]
  },
  {
   "cell_type": "code",
   "execution_count": 77,
   "metadata": {},
   "outputs": [
    {
     "name": "stdout",
     "output_type": "stream",
     "text": [
      "x + y 的不確定度 （直接算）: 0.14\n",
      "x + y 的不確定度 (公式解): 0.14\n"
     ]
    }
   ],
   "source": [
    "import math\n",
    "# 直接算\n",
    "z = x + y\n",
    "print(f\"x + y 的不確定度 （直接算）: {uncetainty(z):.2f}\")\n",
    "# 公式解\n",
    "unc_x = uncetainty(x)\n",
    "unc_y = uncetainty(y)\n",
    "unc_addition = math.sqrt(unc_x**2+unc_y**2)\n",
    "print(f\"x + y 的不確定度 (公式解): {unc_addition:.2f}\")"
   ]
  },
  {
   "cell_type": "markdown",
   "metadata": {},
   "source": [
    "#### 乘除"
   ]
  },
  {
   "cell_type": "code",
   "execution_count": 83,
   "metadata": {},
   "outputs": [
    {
     "name": "stdout",
     "output_type": "stream",
     "text": [
      "x * y 的不確定度 （直接算）: 0.26\n",
      "x * y 的不確定度 （直接算）: 0.26\n"
     ]
    }
   ],
   "source": [
    "# 直接算\n",
    "z = x * y\n",
    "print(f\"x * y 的不確定度 （直接算）: {uncetainty(z):.2f}\")\n",
    "# 公式解\n",
    "unc_x_r = uncetainty(x)/np.mean(x)\n",
    "unc_y_r = uncetainty(y)/np.mean(y)\n",
    "unc_z_r = math.sqrt(unc_x_r**2+unc_y_r**2)\n",
    "mean_z = np.mean(x)*np.mean(y)\n",
    "unc_z = unc_z_r * mean_z\n",
    "print(f\"x * y 的不確定度 （直接算）: {unc_z:.2f}\")\n"
   ]
  },
  {
   "cell_type": "markdown",
   "metadata": {},
   "source": [
    "#### x,y 必須獨立（不相關）"
   ]
  },
  {
   "cell_type": "code",
   "execution_count": 79,
   "metadata": {},
   "outputs": [
    {
     "name": "stdout",
     "output_type": "stream",
     "text": [
      "Coveriance:-0.00\n"
     ]
    },
    {
     "data": {
      "image/png": "[encoded data removed]",
      "text/plain": [
       "<Figure size 640x480 with 1 Axes>"
      ]
     },
     "metadata": {},
     "output_type": "display_data"
    }
   ],
   "source": [
    "import matplotlib.pyplot as plt\n",
    "\n",
    "# x = np.array([2.2, 1.8, 1.9, 2.1, 2])\n",
    "# y = np.array([1, 1, 1, 1, 1])\n",
    "x = np.array([2.2, 1.8, 1.9, 2.1, 2])\n",
    "y = np.array([1.2, 1.3, 1.4, 1.5, 1.9])\n",
    "# x = np.array([1.2, 1.8, 1.9, 2.1, 2])\n",
    "# y = np.array([1, 1.3, 1.4, 1.5, 1.6])\n",
    "\n",
    "# Plot x and y\n",
    "plt.scatter(x, y)\n",
    "\n",
    "# Calculate covariance (類似相關係數)\n",
    "covariance = np.cov(x, y)[0][1]\n",
    "print(f\"Coveriance:{covariance:.2f}\")\n",
    "\n",
    "# Add labels and title\n",
    "plt.xlabel('X-axis')\n",
    "plt.ylabel('Y-axis')\n",
    "plt.title('Plot of X and Y')\n",
    "\n",
    "# Show the plot\n",
    "plt.show()\n"
   ]
  }
 ],
 "metadata": {
  "kernelspec": {
   "display_name": "Python 3",
   "language": "python",
   "name": "python3"
  },
  "language_info": {
   "codemirror_mode": {
    "name": "ipython",
    "version": 3
   },
   "file_extension": ".py",
   "mimetype": "text/x-python",
   "name": "python",
   "nbconvert_exporter": "python",
   "pygments_lexer": "ipython3",
   "version": "3.10.12"
  }
 },
 "nbformat": 4,
 "nbformat_minor": 2
}
