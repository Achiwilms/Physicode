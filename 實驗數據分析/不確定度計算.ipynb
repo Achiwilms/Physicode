{
 "cells": [
  {
   "cell_type": "code",
   "execution_count": 7,
   "metadata": {},
   "outputs": [
    {
     "name": "stdout",
     "output_type": "stream",
     "text": [
      "最佳估計值: 22.436\n",
      "A類不確定度: 0.03749666651850536\n",
      "B類不確定度: 0.002886751345948129\n"
     ]
    }
   ],
   "source": [
    "import numpy as np\n",
    "# function for uncertainty\n",
    "def uncetainty(data):\n",
    "    standard_deviation = np.std(data, ddof=1)\n",
    "    return standard_deviation / np.sqrt(len(data))\n",
    "\n",
    "# 資料\n",
    "data = np.array([22.31, 22.42, 22.47, 22.54, 22.44])\n",
    "# 最小刻度 （與資料同單位）\n",
    "min_scale = 0.01\n",
    "\n",
    "# 最佳估計值\n",
    "mean = np.mean(data)\n",
    "# A類不確定度\n",
    "unc_a_raw = uncetainty(data)\n",
    "# B類不確定度\n",
    "unc_b_raw = min_scale / (2*np.sqrt(3))\n",
    "print(f'最佳估計值: {mean}')\n",
    "print(f'A類不確定度: {unc_a_raw}')\n",
    "print(f'B類不確定度: {unc_b_raw}')"
   ]
  },
  {
   "cell_type": "code",
   "execution_count": 9,
   "metadata": {},
   "outputs": [
    {
     "name": "stdout",
     "output_type": "stream",
     "text": [
      "最佳估計值: 22.436\n",
      "不確定度: 0.03711347464196797\n",
      "真值範圍: 22.398886525358034~22.473113474641966\n"
     ]
    }
   ],
   "source": [
    "# A類不確定度\n",
    "unc_a = 0.037\n",
    "# B類不確定度\n",
    "unc_b = 0.0029\n",
    "\n",
    "# 不確定度\n",
    "unc = np.sqrt(unc_a**2 + unc_b**2)\n",
    "print(f'最佳估計值: {mean}')\n",
    "print(f'不確定度: {unc}')\n",
    "print(f'真值範圍: {mean-unc}~{mean+unc}')"
   ]
  }
 ],
 "metadata": {
  "kernelspec": {
   "display_name": "Python 3",
   "language": "python",
   "name": "python3"
  },
  "language_info": {
   "codemirror_mode": {
    "name": "ipython",
    "version": 3
   },
   "file_extension": ".py",
   "mimetype": "text/x-python",
   "name": "python",
   "nbconvert_exporter": "python",
   "pygments_lexer": "ipython3",
   "version": "3.10.12"
  }
 },
 "nbformat": 4,
 "nbformat_minor": 2
}
