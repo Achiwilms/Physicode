{
 "cells": [
  {
   "cell_type": "code",
   "execution_count": 2,
   "metadata": {},
   "outputs": [
    {
     "name": "stdout",
     "output_type": "stream",
     "text": [
      "0.06804410334481596\n",
      "最佳估計值: 13.284\n",
      "A類不確定度: 0.03043024810940586\n",
      "B類不確定度: 0.02886751345948129\n"
     ]
    }
   ],
   "source": [
    "import numpy as np\n",
    "# function for uncertainty\n",
    "def uncetainty(data):\n",
    "    standard_deviation = np.std(data, ddof=1)\n",
    "    print(standard_deviation)\n",
    "    return standard_deviation / np.sqrt(len(data))\n",
    "\n",
    "# 資料\n",
    "data = np.array([13.24,13.20,13.33,13.28,13.37])\n",
    "# 最小刻度 （與資料同單位）\n",
    "min_scale = 0.1\n",
    "\n",
    "# 最佳估計值\n",
    "mean = np.mean(data)\n",
    "# A類不確定度\n",
    "unc_a_raw = uncetainty(data)\n",
    "# B類不確定度\n",
    "unc_b_raw = min_scale / (2*np.sqrt(3))\n",
    "print(f'最佳估計值: {mean}')\n",
    "print(f'A類不確定度: {unc_a_raw}')\n",
    "print(f'B類不確定度: {unc_b_raw}')"
   ]
  },
  {
   "cell_type": "code",
   "execution_count": 2,
   "metadata": {},
   "outputs": [
    {
     "name": "stdout",
     "output_type": "stream",
     "text": [
      "最佳估計值: 13.284\n",
      "不確定度: 0.042449970553582246\n",
      "真值範圍: 13.241550029446419~13.326449970553583\n"
     ]
    }
   ],
   "source": [
    "# A類不確定度\n",
    "unc_a = 0.031\n",
    "# B類不確定度\n",
    "unc_b = 0.029\n",
    "\n",
    "# 不確定度\n",
    "unc = np.sqrt(unc_a**2 + unc_b**2)\n",
    "print(f'最佳估計值: {mean}')\n",
    "print(f'不確定度: {unc}')\n",
    "print(f'真值範圍: {mean-unc}~{mean+unc}')"
   ]
  },
  {
   "cell_type": "code",
   "execution_count": 9,
   "metadata": {},
   "outputs": [
    {
     "name": "stdout",
     "output_type": "stream",
     "text": [
      "950.8103819562507\n"
     ]
    }
   ],
   "source": [
    "import math\n",
    "print(1677.8/1.7646)\n"
   ]
  },
  {
   "cell_type": "code",
   "execution_count": 6,
   "metadata": {},
   "outputs": [
    {
     "name": "stdout",
     "output_type": "stream",
     "text": [
      "0.008078157573902603\n"
     ]
    }
   ],
   "source": [
    "import math\n",
    "print(1.3284*1.3284*math.sqrt((0.0043*0.0043)/(1.3284*1.3284)*2))\n"
   ]
  }
 ],
 "metadata": {
  "kernelspec": {
   "display_name": "Python 3",
   "language": "python",
   "name": "python3"
  },
  "language_info": {
   "codemirror_mode": {
    "name": "ipython",
    "version": 3
   },
   "file_extension": ".py",
   "mimetype": "text/x-python",
   "name": "python",
   "nbconvert_exporter": "python",
   "pygments_lexer": "ipython3",
   "version": "3.10.12"
  }
 },
 "nbformat": 4,
 "nbformat_minor": 2
}
