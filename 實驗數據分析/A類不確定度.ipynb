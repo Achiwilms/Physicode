{
 "cells": [
  {
   "cell_type": "markdown",
   "metadata": {},
   "source": [
    "#### A類不確定度"
   ]
  },
  {
   "cell_type": "markdown",
   "metadata": {},
   "source": [
    "##### 抽撲克牌"
   ]
  },
  {
   "cell_type": "code",
   "execution_count": 16,
   "metadata": {},
   "outputs": [
    {
     "name": "stdout",
     "output_type": "stream",
     "text": [
      "Random Integer: 9\n",
      "抽牌: [4, 4, 7, 2, 10, 13, 7, 12, 9, 10]\n",
      "平均: 7.8\n",
      "誤差:0.8\n"
     ]
    }
   ],
   "source": [
    "import random\n",
    "# number of sample\n",
    "num_samples = 10\n",
    "\n",
    "# Generate a random integer\n",
    "random_int = random.randint(1, 13)\n",
    "print(\"Random Integer:\", random_int)\n",
    "\n",
    "\n",
    "# Generate a list of random integers \n",
    "poker_list = [random.randint(1, 13) for _ in range(num_samples)]\n",
    "print(\"抽牌:\", poker_list)\n",
    "\n",
    "# Get the mean of the list\n",
    "result = sum(poker_list) / len(poker_list)\n",
    "print(\"平均:\", result)\n",
    "print(f\"誤差:{result-7:.1f}\" )\n"
   ]
  },
  {
   "cell_type": "markdown",
   "metadata": {},
   "source": [
    "##### 抽好多次畫統計圖"
   ]
  },
  {
   "cell_type": "code",
   "execution_count": 19,
   "metadata": {},
   "outputs": [
    {
     "data": {
      "image/png": "[encoded data removed]",
      "text/plain": [
       "<Figure size 640x480 with 1 Axes>"
      ]
     },
     "metadata": {},
     "output_type": "display_data"
    },
    {
     "name": "stdout",
     "output_type": "stream",
     "text": [
      "[7.08, 7.21, 7.36, 7.1, 6.7, 7.34, 6.83, 7.18, 6.6, 7.09, 6.38, 6.44, 7.38, 7.35, 6.27, 6.76, 7.16, 7.48, 6.99, 6.56, 7.27, 6.58, 6.62, 6.84, 6.76, 6.99, 6.79, 7.22, 7.21, 7.86, 6.38, 7.17, 7.13, 7.4, 7.8, 6.53, 6.87, 7.37, 7.63, 6.53, 6.55, 7.15, 6.58, 7.25, 6.99, 7.21, 7.33, 7.41, 7.11, 7.12, 7.48, 7.3, 7.17, 6.91, 7.05, 7.63, 6.47, 7.56, 7.45, 6.81, 7.33, 6.37, 7.29, 6.85, 7.21, 5.96, 6.63, 6.09, 6.72, 6.84, 7.13, 7.29, 6.97, 7.2, 6.69, 7.07, 7.47, 6.68, 6.54, 6.86, 7.13, 6.65, 7.12, 6.89, 6.86, 7.76, 7.44, 6.97, 6.79, 7.05, 6.51, 6.29, 7.09, 7.04, 7.07, 6.51, 7.12, 7.51, 6.92, 7.3, 7.38, 6.76, 6.75, 6.68, 6.77, 6.81, 6.9, 6.79, 6.96, 6.71, 7.24, 7.08, 6.65, 6.41, 7.3, 6.95, 7.81, 6.94, 7.0, 6.67, 6.91, 7.43, 6.77, 6.48, 5.89, 7.53, 6.96, 7.01, 7.0, 7.06, 6.89, 7.27, 6.37, 7.11, 5.97, 6.98, 7.55, 7.02, 7.18, 7.28, 7.75, 7.29, 6.88, 6.78, 6.98, 6.63, 7.16, 7.17, 7.19, 6.48, 6.52, 7.22, 7.42, 7.19, 7.02, 6.84, 6.79, 6.41, 7.73, 7.12, 7.23, 7.09, 6.81, 7.12, 6.18, 6.79, 7.55, 7.65, 6.96, 6.53, 7.13, 6.95, 6.73, 7.44, 7.6, 6.95, 6.57, 6.73, 6.42, 6.52, 6.97, 6.48, 7.28, 7.35, 7.16, 6.81, 6.68, 7.37, 6.93, 6.62, 7.03, 7.18, 6.76, 6.83, 6.76, 6.63, 6.43, 6.77, 6.76, 6.77, 6.97, 7.12, 6.86, 6.78, 7.03, 7.06, 7.1, 6.72, 6.91, 6.3, 7.74, 8.02, 6.48, 7.46, 7.46, 6.74, 6.8, 6.64, 7.58, 7.16, 7.05, 6.67, 6.84, 7.49, 6.81, 7.17, 7.12, 7.19, 6.63, 6.37, 6.37, 6.63, 7.58, 6.78, 7.22, 6.34, 7.07, 6.83, 7.47, 7.11, 6.76, 7.23, 6.75, 7.13, 7.23, 7.21, 6.6, 7.23, 6.98, 6.7, 7.34, 7.24, 7.07, 6.58, 7.05, 6.37, 6.83, 6.81, 7.22, 6.83, 7.01, 6.99, 6.93, 7.65, 7.16, 7.16, 6.76, 7.17, 7.04, 6.88, 7.46, 6.32, 7.01, 7.13, 6.99, 7.21, 7.33, 6.96, 6.8, 7.16, 6.5, 6.75, 7.15, 7.1, 7.09, 7.02, 7.34, 7.02, 7.54, 7.12, 6.74, 7.0, 6.95, 7.63, 6.89, 7.48, 7.6, 6.72, 6.71, 6.72, 7.18, 7.69, 7.32, 7.46, 7.06, 6.29, 6.72, 6.96, 6.53, 6.87, 6.51, 7.09, 7.46, 7.86, 6.33, 7.59, 6.99, 7.21, 6.96, 7.04, 6.94, 7.02, 6.74, 7.24, 7.21, 6.8, 7.15, 6.63, 7.11, 7.03, 6.3, 7.44, 7.43, 6.9, 7.44, 6.26, 6.82, 7.33, 7.11, 7.04, 7.14, 6.78, 6.76, 7.14, 7.02, 6.67, 7.31, 6.63, 6.88, 7.03, 6.71, 7.59, 7.06, 7.12, 7.03, 7.26, 6.98, 6.85, 7.06, 7.01, 7.13, 7.03, 6.93, 7.36, 7.27, 7.3, 6.94, 6.71, 7.09, 6.79, 7.18, 6.75, 6.9, 6.76, 6.98, 7.69, 7.58, 7.31, 7.4, 6.86, 7.24, 7.15, 7.04, 6.9, 7.29, 6.73, 6.69, 7.08, 6.44, 7.05, 6.94, 7.07, 6.62, 7.09, 7.15, 7.73, 6.93, 6.98, 7.15, 6.52, 7.46, 7.13, 6.87, 7.5, 6.85, 6.85, 6.44, 6.69, 6.39, 6.94, 6.28, 6.97, 7.19, 7.28, 7.2, 7.41, 6.2, 7.28, 6.92, 6.68, 7.06, 6.52, 7.87, 6.65, 7.08, 6.96, 7.78, 6.82, 7.15, 7.04, 6.76, 6.94, 7.06, 6.93, 6.93, 7.02, 6.85, 6.94, 6.48, 7.61, 7.16, 6.87, 7.38, 6.28, 7.63, 6.65, 6.86, 7.48, 7.05, 7.23, 7.13, 7.19, 6.03, 6.66, 6.64, 7.01, 7.01, 6.8, 7.64, 7.21, 7.18, 6.82, 6.47, 7.34, 6.43, 6.9, 7.25, 7.31, 7.47, 6.8, 6.54, 6.79, 5.87, 7.2, 7.06, 7.08, 7.31, 7.36, 7.14, 7.0, 6.79, 7.21, 7.37, 6.87, 7.01, 6.86, 7.95, 7.37, 6.61, 6.61, 7.27, 6.91, 7.15, 6.9, 7.14, 7.33, 7.09, 6.86, 6.57, 6.94, 6.44, 7.29, 6.71, 7.02, 7.07, 7.32, 7.0, 7.84, 7.35, 7.09, 6.74, 7.13, 6.74, 7.09, 7.22, 7.08, 6.93, 6.33, 6.78, 7.09, 6.54, 6.97, 7.64, 7.07, 7.05, 7.04, 6.69, 7.35, 7.52, 7.09, 7.13, 7.22, 7.21, 6.54, 8.12, 7.76, 7.47, 7.13, 7.01, 7.73, 6.44, 6.59, 6.93, 6.73, 7.51, 7.26, 6.99, 6.68, 7.46, 6.92, 6.91, 6.91, 7.75, 6.88, 6.94, 7.39, 6.47, 7.82, 7.07, 7.09, 6.81, 6.47, 6.67, 6.75, 6.92, 6.77, 7.13, 7.67, 6.61, 7.13, 6.45, 7.29, 6.76, 6.98, 7.01, 7.59, 6.98, 6.21, 7.2, 6.92, 6.3, 7.83, 7.14, 7.19, 7.08, 7.22, 7.15, 7.39, 7.13, 6.86, 6.48, 7.69, 6.7, 7.07, 7.36, 6.82, 6.56, 6.7, 6.5, 7.63, 7.01, 6.35, 7.27, 6.86, 6.78, 6.94, 7.06, 6.79, 7.07, 6.71, 7.53, 7.73, 7.59, 7.43, 7.14, 7.12, 6.82, 7.34, 7.01, 6.58, 7.7, 7.28, 7.0, 7.38, 7.55, 7.31, 6.92, 7.54, 7.02, 6.98, 7.0, 7.35, 6.93, 6.64, 6.77, 7.35, 7.45, 6.9, 7.26, 6.5, 6.86, 6.64, 7.12, 7.45, 7.35, 7.23, 6.6, 8.07, 6.81, 7.23, 7.08, 6.89, 6.78, 6.65, 6.75, 7.22, 7.02, 6.47, 7.16, 6.49, 7.2, 6.86, 6.75, 6.99, 6.9, 7.02, 6.71, 7.29, 6.85, 6.83, 6.79, 7.48, 6.86, 6.46, 7.1, 6.69, 7.02, 6.7, 6.51, 6.4, 7.59, 7.48, 7.79, 7.22, 6.95, 7.06, 6.81, 6.98, 6.51, 7.47, 7.17, 6.86, 6.95, 7.2, 6.5, 6.85, 7.93, 7.17, 6.72, 7.08, 6.86, 6.21, 7.3, 6.54, 7.29, 6.75, 7.08, 7.19, 7.85, 6.86, 6.53, 7.45, 7.47, 7.18, 7.46, 7.11, 7.03, 6.88, 6.99, 7.26, 6.96, 6.99, 7.03, 7.19, 7.27, 6.94, 6.71, 6.69, 6.92, 6.92, 7.28, 6.95, 7.1, 7.29, 7.42, 7.32, 6.78, 7.26, 6.56, 7.13, 7.58, 7.15, 6.91, 7.45, 7.06, 6.57, 6.54, 6.41, 7.07, 7.22, 7.22, 7.41, 7.04, 6.7, 7.1, 6.73, 7.63, 6.39, 6.95, 7.02, 6.81, 6.99, 6.42, 7.7, 7.04, 7.4, 7.35, 6.57, 7.14, 7.16, 6.63, 7.02, 7.07, 6.98, 6.88, 6.85, 7.32, 6.76, 7.09, 6.99, 7.65, 7.11, 7.64, 7.38, 7.3, 6.52, 6.67, 7.03, 6.67, 7.17, 7.01, 6.77, 7.24, 6.65, 7.18, 7.24, 6.89, 7.05, 6.88, 6.93, 6.85, 7.19, 7.29, 7.67, 6.81, 7.51, 6.8, 6.03, 7.22, 6.84, 6.91, 6.8, 7.04, 7.05, 7.07, 7.34, 6.6, 7.21, 7.15, 7.37, 7.63, 7.23, 7.22, 7.17, 6.8, 7.34, 6.54, 7.01, 6.46, 7.36, 6.82, 6.6, 6.86, 7.27, 6.76, 7.43, 7.28, 7.23, 6.89, 7.11, 6.99, 7.72, 7.29, 7.1, 7.11, 6.76, 7.5, 6.94, 7.3, 7.15, 7.51, 6.86, 6.89, 7.38, 6.74, 7.71, 6.86, 7.08, 7.13, 6.54, 7.45, 6.97, 6.94, 6.76, 7.33, 6.69, 6.83, 7.14, 7.04, 6.66, 6.94, 7.09, 6.6, 6.71, 6.91, 6.53, 7.24, 6.72, 6.94, 7.17, 6.86, 7.45, 6.55, 6.48, 7.17, 7.01, 6.58, 7.45, 7.17, 6.92, 6.39, 6.22, 7.28, 7.15, 6.95, 7.09, 7.34, 7.07, 6.58, 6.95, 6.46, 7.01, 7.67, 7.32, 6.92, 7.27, 7.05, 6.21, 7.13, 7.41, 7.05, 6.7, 6.58, 7.05, 7.58, 7.47, 7.61, 6.86, 7.44, 7.52, 6.54, 7.51, 6.77, 7.46, 7.28, 7.31, 6.62, 6.54, 7.23, 7.05, 6.6, 7.13, 6.58, 6.85, 6.47, 6.76, 6.74, 7.35, 7.05, 6.95, 7.59, 7.29, 6.97, 6.6, 7.55, 7.21, 6.36, 7.05, 6.42, 7.27, 6.31, 7.1, 6.76, 7.21, 6.86, 6.71, 7.12, 6.37, 7.2, 7.39, 6.65, 7.04, 7.32, 6.95, 6.96, 6.65, 6.77, 7.3, 7.35, 7.26, 7.07, 7.47, 6.93, 6.7, 6.71, 6.39, 7.33, 6.76, 7.03, 6.62, 6.94, 7.63, 7.31, 7.39, 6.83, 6.55, 6.2, 6.66, 7.23, 7.02, 6.89, 6.84, 6.69, 7.94, 7.59, 6.45, 6.7, 6.63, 6.86, 6.92]\n"
     ]
    }
   ],
   "source": [
    "import numpy as np\n",
    "import matplotlib.pyplot as plt\n",
    "\n",
    "# number of sample\n",
    "num_samples = 100\n",
    "\n",
    "# Poker Mean List\n",
    "poker_mean_list = []\n",
    "for i in range(1000):\n",
    "    # Generate a list of random integers \n",
    "    poker_list = [random.randint(1, 13) for _ in range(num_samples)]\n",
    "    \n",
    "    # Get the mean of the list\n",
    "    mean = sum(poker_list) / len(poker_list)\n",
    "    \n",
    "    # Append the mean to the list\n",
    "    poker_mean_list.append(mean)\n",
    "\n",
    "# Given list of numbers\n",
    "data = poker_mean_list\n",
    "\n",
    "# Define the intervals\n",
    "intervals = np.arange(1, 14, 1)  # This represents [1~2, 2~3, 3~4]\n",
    "\n",
    "# Count the occurrences of each number within intervals\n",
    "histogram_data = [sum(1 for num in data if interval <= num < interval + 1) for interval in intervals]\n",
    "\n",
    "# Define the labels for x-axis\n",
    "interval_labels = [f\"{interval}~{interval+1}\" for interval in intervals]\n",
    "\n",
    "# Create the histogram plot\n",
    "plt.bar(interval_labels, histogram_data, color='blue')\n",
    "\n",
    "# Add labels and title\n",
    "plt.xlabel('Intervals')\n",
    "plt.ylabel('Frequency')\n",
    "plt.title(f'Number of Sample: {num_samples}')\n",
    "\n",
    "# save the plot\n",
    "plt.savefig(f'a_sample_{num_samples}.png')\n",
    "\n",
    "# Show the plot\n",
    "plt.show()\n",
    "print(poker_mean_list)"
   ]
  },
  {
   "cell_type": "markdown",
   "metadata": {},
   "source": [
    "##### 不確定度有用嗎？"
   ]
  },
  {
   "cell_type": "code",
   "execution_count": 68,
   "metadata": {},
   "outputs": [
    {
     "name": "stdout",
     "output_type": "stream",
     "text": [
      "[7, 12, 12, 9, 9]\n",
      "平均值: 9.8\n",
      "A類不確定度: 1.0\n",
      "真值範圍: 8.8~10.8\n",
      "錯了...\n"
     ]
    }
   ],
   "source": [
    "from playsound import playsound\n",
    "\n",
    "# Generate a list of random integers \n",
    "num_samples = 5\n",
    "poker_list = [random.randint(1, 13) for _ in range(num_samples)]\n",
    "mean = sum(poker_list) / len(poker_list)\n",
    "standard_deviation = np.std(poker_list, ddof=1)\n",
    "a_uncertainty = standard_deviation / np.sqrt(num_samples)\n",
    "print(poker_list)\n",
    "print(f'平均值: {mean}')\n",
    "print(f'A類不確定度: {a_uncertainty:.1f}')\n",
    "print(f'真值範圍: {mean-a_uncertainty:.1f}~{mean+a_uncertainty:.1f}')\n",
    "if(7>mean-a_uncertainty and 7<mean+a_uncertainty):\n",
    "    print('對了！')\n",
    "else:\n",
    "    print('錯了...')"
   ]
  },
  {
   "cell_type": "markdown",
   "metadata": {},
   "source": [
    "##### 不確定度有用嗎？統計正確率"
   ]
  },
  {
   "cell_type": "code",
   "execution_count": 67,
   "metadata": {},
   "outputs": [
    {
     "name": "stdout",
     "output_type": "stream",
     "text": [
      "正確率: 95.40%\n"
     ]
    }
   ],
   "source": [
    "import random\n",
    "import numpy as np\n",
    "\n",
    "# number of experiment\n",
    "exp_num = 1000\n",
    "# number of sample\n",
    "num_samples = 100\n",
    "# times of uncertainty\n",
    "times_unc = 2\n",
    "# error counter\n",
    "error_counter = 0\n",
    "# real value\n",
    "real_value = 7\n",
    "for _ in range(exp_num):\n",
    "    poker_list = [random.randint(1, 13) for _ in range(num_samples)]\n",
    "    mean = sum(poker_list) / len(poker_list)\n",
    "    standard_deviation = np.std(poker_list, ddof=1)\n",
    "    a_uncertainty = standard_deviation / np.sqrt(num_samples)\n",
    "    if(real_value<mean-times_unc*a_uncertainty or real_value>mean+times_unc*a_uncertainty):\n",
    "        error_counter+=1\n",
    "print(f\"正確率: {100-error_counter/exp_num*100:.2f}%\")\n",
    "\n"
   ]
  }
 ],
 "metadata": {
  "kernelspec": {
   "display_name": "Python 3",
   "language": "python",
   "name": "python3"
  },
  "language_info": {
   "codemirror_mode": {
    "name": "ipython",
    "version": 3
   },
   "file_extension": ".py",
   "mimetype": "text/x-python",
   "name": "python",
   "nbconvert_exporter": "python",
   "pygments_lexer": "ipython3",
   "version": "3.10.12"
  }
 },
 "nbformat": 4,
 "nbformat_minor": 2
}
