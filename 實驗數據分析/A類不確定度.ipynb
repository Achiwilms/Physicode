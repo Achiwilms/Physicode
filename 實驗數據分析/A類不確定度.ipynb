{
 "cells": [
  {
   "cell_type": "markdown",
   "metadata": {},
   "source": [
    "#### A類不確定度"
   ]
  },
  {
   "cell_type": "markdown",
   "metadata": {},
   "source": [
    "##### 抽撲克牌"
   ]
  },
  {
   "cell_type": "code",
   "execution_count": 1,
   "metadata": {},
   "outputs": [
    {
     "name": "stdout",
     "output_type": "stream",
     "text": [
      "Random Integer: 2\n",
      "抽牌: [1, 6, 9, 7, 7, 1, 2, 12, 9, 9]\n",
      "平均: 6.3\n",
      "誤差:-0.7\n"
     ]
    }
   ],
   "source": [
    "import random\n",
    "# number of sample\n",
    "num_samples = 10\n",
    "\n",
    "# Generate a random integer\n",
    "random_int = random.randint(1, 13)\n",
    "print(\"Random Integer:\", random_int)\n",
    "\n",
    "# Generate a list of random integers \n",
    "poker_list = [random.randint(1, 13) for _ in range(num_samples)]\n",
    "print(\"抽牌:\", poker_list)\n",
    "\n",
    "# Get the mean of the list\n",
    "result = sum(poker_list) / len(poker_list)\n",
    "print(\"平均:\", result)\n",
    "print(f\"誤差:{result-7:.1f}\" )\n"
   ]
  },
  {
   "cell_type": "markdown",
   "metadata": {},
   "source": [
    "##### 抽好多次畫統計圖"
   ]
  },
  {
   "cell_type": "code",
   "execution_count": 3,
   "metadata": {},
   "outputs": [
    {
     "data": {
      "image/png": "[encoded data removed]",
      "text/plain": [
       "<Figure size 640x480 with 1 Axes>"
      ]
     },
     "metadata": {},
     "output_type": "display_data"
    },
    {
     "name": "stdout",
     "output_type": "stream",
     "text": [
      "[7.5, 5.0, 9.0, 6.5, 8.0, 7.0, 9.5, 10.0, 8.5, 10.5, 9.0, 5.5, 6.0, 6.0, 7.0, 1.0, 7.0, 10.5, 5.5, 8.0, 7.5, 7.5, 6.0, 5.0, 10.5, 8.0, 11.0, 7.0, 5.5, 3.0, 1.5, 9.0, 8.0, 12.0, 8.0, 10.5, 4.0, 4.5, 11.5, 6.5, 6.0, 6.5, 2.5, 7.5, 7.5, 1.5, 5.5, 9.5, 8.5, 11.5, 7.0, 11.0, 12.5, 9.5, 8.5, 6.5, 4.5, 3.0, 8.0, 11.0, 7.5, 5.0, 7.5, 11.5, 10.0, 13.0, 5.5, 5.5, 3.0, 6.5, 8.0, 10.5, 6.5, 8.0, 8.5, 3.0, 7.0, 8.0, 9.5, 8.0, 10.5, 2.0, 5.5, 8.0, 10.5, 6.5, 2.0, 8.0, 6.0, 9.5, 8.0, 10.5, 8.5, 6.0, 5.0, 9.0, 4.5, 7.5, 8.0, 12.5, 5.0, 4.0, 10.5, 6.5, 8.0, 8.5, 3.5, 10.0, 1.0, 8.0, 7.0, 9.5, 8.5, 8.5, 6.0, 8.0, 7.0, 7.0, 4.0, 7.5, 3.0, 5.0, 7.5, 6.0, 3.5, 10.5, 5.5, 3.0, 4.5, 7.0, 7.0, 7.5, 3.5, 7.0, 11.5, 7.5, 4.0, 4.5, 5.5, 8.5, 10.5, 9.0, 11.0, 9.0, 9.0, 4.0, 8.0, 6.5, 3.5, 3.5, 6.0, 8.0, 8.5, 7.0, 5.5, 3.5, 8.5, 9.0, 8.0, 8.0, 8.5, 6.5, 6.0, 7.5, 5.0, 10.0, 13.0, 6.5, 5.5, 12.0, 7.0, 4.5, 6.5, 4.0, 4.0, 11.5, 4.0, 9.5, 1.0, 4.5, 4.0, 4.5, 9.0, 11.5, 3.5, 4.5, 13.0, 10.5, 8.5, 6.5, 6.0, 5.0, 7.0, 3.5, 11.5, 5.5, 8.5, 6.5, 11.0, 7.5, 2.5, 5.5, 10.0, 3.0, 2.5, 10.5, 7.0, 7.0, 11.0, 9.5, 6.0, 5.5, 10.5, 4.5, 13.0, 9.5, 4.0, 10.0, 7.5, 5.0, 3.0, 12.0, 6.5, 7.0, 3.0, 3.0, 8.0, 8.5, 5.0, 12.0, 2.0, 9.5, 11.0, 10.5, 9.5, 10.5, 9.5, 6.5, 5.5, 5.5, 12.5, 2.5, 7.0, 5.0, 10.5, 8.5, 11.0, 11.5, 5.0, 9.0, 6.5, 3.0, 8.0, 11.0, 5.0, 3.0, 6.0, 7.0, 9.0, 10.0, 1.5, 3.5, 12.5, 6.5, 10.5, 6.5, 7.0, 7.0, 3.5, 9.0, 5.5, 5.0, 7.0, 12.5, 10.5, 2.5, 8.0, 7.0, 7.0, 6.0, 12.0, 12.5, 3.0, 7.5, 7.5, 3.0, 5.5, 11.0, 8.5, 5.5, 6.0, 9.5, 3.0, 9.0, 9.5, 6.5, 8.0, 3.0, 10.0, 8.0, 3.5, 11.0, 9.5, 11.0, 11.5, 7.0, 8.0, 6.5, 5.5, 10.0, 12.0, 6.5, 8.0, 5.5, 6.5, 8.5, 11.0, 5.5, 10.5, 6.5, 4.5, 5.0, 11.5, 3.5, 5.5, 5.0, 7.5, 10.0, 10.5, 3.5, 7.5, 13.0, 8.0, 3.5, 8.0, 7.0, 10.0, 7.0, 5.5, 7.5, 5.5, 13.0, 5.5, 7.5, 3.5, 8.0, 10.0, 9.0, 8.5, 8.5, 10.0, 7.0, 9.0, 11.0, 6.5, 8.5, 7.5, 7.0, 8.0, 9.5, 4.0, 9.5, 4.5, 2.5, 10.5, 6.5, 7.0, 9.0, 9.5, 4.5, 9.5, 4.0, 6.0, 7.5, 9.0, 8.0, 4.0, 5.0, 13.0, 8.0, 6.5, 7.0, 8.5, 1.0, 3.0, 11.5, 5.5, 7.5, 10.5, 5.0, 12.0, 5.5, 9.0, 11.5, 2.5, 6.0, 7.5, 8.0, 7.5, 5.0, 7.5, 6.5, 7.5, 6.0, 6.5, 6.0, 7.5, 9.5, 7.0, 5.5, 10.0, 9.0, 2.5, 8.0, 4.0, 12.0, 8.5, 11.0, 7.5, 6.5, 6.0, 6.0, 6.0, 5.0, 8.5, 6.0, 10.0, 8.5, 4.0, 8.5, 10.0, 11.5, 5.5, 3.0, 6.0, 2.5, 2.5, 8.5, 7.5, 3.5, 9.5, 4.0, 4.5, 9.5, 6.0, 5.5, 7.5, 8.0, 11.5, 11.0, 8.5, 8.0, 8.5, 4.5, 4.0, 7.5, 10.0, 8.5, 2.5, 6.5, 3.5, 9.5, 7.5, 8.5, 9.0, 11.0, 3.5, 8.0, 8.0, 7.5, 7.0, 6.5, 10.0, 9.5, 6.0, 7.5, 3.5, 6.0, 6.5, 7.5, 6.5, 8.5, 13.0, 10.5, 4.5, 2.0, 8.5, 10.0, 5.0, 9.5, 12.0, 5.0, 8.0, 6.5, 5.5, 4.0, 8.5, 6.5, 7.0, 6.5, 10.0, 8.5, 8.5, 5.5, 5.5, 8.0, 9.5, 12.0, 7.0, 7.5, 2.0, 6.5, 10.5, 4.5, 10.0, 9.5, 4.5, 3.0, 4.0, 4.5, 3.0, 6.0, 8.0, 5.5, 4.0, 10.0, 4.0, 5.0, 5.0, 4.5, 8.0, 7.0, 7.0, 6.5, 8.0, 11.5, 6.0, 8.0, 9.0, 5.0, 13.0, 4.5, 7.0, 2.0, 9.5, 6.0, 7.0, 3.0, 6.0, 7.5, 10.5, 8.0, 6.5, 2.0, 8.0, 8.0, 7.5, 7.5, 10.5, 3.0, 4.0, 12.0, 5.0, 7.5, 8.5, 9.0, 9.0, 10.5, 7.5, 6.0, 6.0, 12.0, 11.0, 6.0, 7.0, 4.0, 10.5, 8.5, 7.0, 7.0, 7.5, 9.0, 2.5, 2.0, 4.5, 4.5, 9.0, 11.0, 9.5, 8.5, 9.5, 8.0, 7.0, 7.0, 2.0, 9.5, 4.5, 7.0, 10.5, 8.0, 8.5, 9.0, 6.5, 5.0, 4.0, 7.5, 7.5, 8.0, 4.0, 8.0, 6.0, 8.0, 7.0, 3.0, 13.0, 4.0, 10.0, 7.0, 8.0, 6.5, 7.0, 10.0, 7.5, 6.5, 5.0, 2.0, 9.5, 5.0, 3.5, 6.5, 3.5, 6.5, 2.5, 8.5, 5.5, 6.0, 2.0, 1.5, 10.5, 10.0, 10.0, 2.0, 8.0, 10.0, 13.0, 4.0, 4.0, 7.0, 5.0, 13.0, 9.5, 7.5, 5.5, 8.5, 9.5, 2.5, 4.0, 7.5, 7.5, 11.5, 5.5, 7.5, 11.5, 8.0, 8.5, 8.0, 3.5, 4.0, 4.5, 3.0, 7.0, 6.0, 4.0, 6.5, 3.0, 8.0, 5.0, 6.5, 9.5, 12.5, 8.5, 7.0, 7.0, 5.5, 9.5, 7.5, 3.0, 2.0, 6.5, 10.0, 8.0, 5.0, 10.0, 5.0, 4.0, 2.5, 9.5, 7.0, 9.0, 7.0, 4.0, 5.0, 8.0, 6.5, 10.0, 9.0, 11.5, 7.5, 7.0, 6.5, 8.0, 4.5, 11.5, 7.0, 8.0, 8.0, 9.5, 5.5, 7.0, 5.5, 7.5, 5.0, 7.5, 8.0, 2.5, 6.5, 5.5, 3.5, 6.5, 5.5, 4.0, 3.5, 2.0, 8.5, 5.5, 12.0, 7.0, 6.5, 5.5, 10.5, 10.0, 11.5, 6.0, 8.0, 3.5, 7.0, 8.5, 4.0, 8.0, 8.5, 8.5, 11.5, 8.5, 3.5, 7.0, 6.5, 5.5, 5.5, 7.5, 10.0, 5.5, 6.0, 6.0, 5.5, 9.0, 2.5, 8.0, 4.0, 2.0, 3.0, 9.0, 11.5, 9.0, 7.5, 8.5, 5.0, 12.0, 3.0, 7.0, 5.0, 7.0, 10.5, 7.0, 4.5, 13.0, 8.5, 9.0, 3.0, 6.0, 6.5, 10.5, 6.5, 10.0, 5.0, 1.0, 12.0, 8.0, 5.0, 6.5, 7.0, 6.5, 9.0, 12.0, 7.0, 5.0, 7.5, 6.5, 4.0, 13.0, 5.5, 5.0, 3.5, 12.0, 6.0, 10.5, 4.0, 3.0, 4.5, 3.5, 4.5, 5.5, 13.0, 8.0, 8.5, 3.0, 3.5, 8.0, 5.0, 7.0, 5.0, 7.0, 6.0, 6.5, 4.0, 6.5, 8.5, 2.5, 5.5, 12.0, 13.0, 3.0, 5.5, 4.5, 10.5, 11.0, 6.5, 9.5, 4.5, 3.0, 6.0, 6.5, 9.5, 1.5, 7.5, 7.0, 9.5, 10.5, 2.0, 8.5, 10.5, 5.0, 11.0, 5.0, 8.0, 11.0, 10.5, 8.5, 8.5, 7.5, 6.5, 5.0, 4.5, 5.0, 5.5, 4.0, 9.5, 5.0, 4.5, 5.0, 10.0, 6.0, 7.0, 11.0, 7.5, 8.5, 6.5, 10.0, 5.5, 3.5, 12.0, 9.5, 8.5, 3.5, 5.5, 2.5, 8.5, 7.0, 11.5, 9.0, 2.0, 6.0, 9.5, 1.0, 5.5, 8.0, 7.5, 10.0, 7.5, 8.5, 2.5, 8.5, 9.5, 3.0, 6.5, 5.5, 5.5, 8.5, 2.5, 11.0, 6.0, 12.5, 7.5, 2.5, 5.0, 8.5, 5.0, 7.0, 9.0, 3.0, 6.0, 11.0, 2.5, 4.5, 5.5, 2.5, 4.5, 7.0, 9.5, 5.0, 8.5, 6.5, 7.0, 11.0, 4.0, 8.0, 10.0, 10.0, 12.0, 3.5, 5.5, 5.5, 9.5, 8.0, 8.5, 4.0, 10.5, 6.5, 8.5, 4.0, 10.5, 10.5, 7.5, 5.0, 9.0, 7.5, 2.0, 4.5, 7.0, 8.0, 5.5, 10.0, 5.5, 12.0, 7.0, 5.0, 7.0, 8.5, 4.5, 3.5, 11.0, 7.0, 6.0, 8.0, 3.0, 2.0, 6.0, 8.5, 3.0, 8.0, 3.0, 8.5, 9.0, 6.5, 10.5, 4.0, 7.0, 5.5, 7.0, 7.0, 5.0]\n"
     ]
    }
   ],
   "source": [
    "import numpy as np\n",
    "import matplotlib.pyplot as plt\n",
    "\n",
    "# number of sample\n",
    "num_samples = 2\n",
    "\n",
    "# Poker Mean List\n",
    "poker_mean_list = []\n",
    "for i in range(1000):\n",
    "    # Generate a list of random integers \n",
    "    poker_list = [random.randint(1, 13) for _ in range(num_samples)]\n",
    "    \n",
    "    # Get the mean of the list\n",
    "    mean = sum(poker_list) / len(poker_list)\n",
    "    \n",
    "    # Append the mean to the list\n",
    "    poker_mean_list.append(mean)\n",
    "\n",
    "# Given list of numbers\n",
    "data = poker_mean_list\n",
    "\n",
    "# Define the intervals\n",
    "intervals = np.arange(1, 14, 1)  # This represents [1~2, 2~3, 3~4]\n",
    "\n",
    "# Count the occurrences of each number within intervals\n",
    "histogram_data = [sum(1 for num in data if interval <= num < interval + 1) for interval in intervals]\n",
    "\n",
    "# Define the labels for x-axis\n",
    "interval_labels = [f\"{interval}~{interval+1}\" for interval in intervals]\n",
    "\n",
    "# Create the histogram plot\n",
    "plt.bar(interval_labels, histogram_data, color='blue')\n",
    "\n",
    "# Add labels and title\n",
    "plt.xlabel('Intervals')\n",
    "plt.ylabel('Frequency')\n",
    "plt.title(f'Number of Sample: {num_samples}')\n",
    "\n",
    "# save the plot\n",
    "plt.savefig(f'a_sample_{num_samples}.png')\n",
    "\n",
    "# Show the plot\n",
    "plt.show()\n",
    "print(poker_mean_list)"
   ]
  },
  {
   "cell_type": "markdown",
   "metadata": {},
   "source": [
    "##### 不確定度有用嗎？"
   ]
  },
  {
   "cell_type": "code",
   "execution_count": null,
   "metadata": {},
   "outputs": [
    {
     "name": "stdout",
     "output_type": "stream",
     "text": [
      "[10, 11, 11, 11, 8, 3, 9, 8, 8, 10, 6, 1, 5, 9, 5, 9, 13, 9, 9, 3, 9, 11, 1, 4, 11, 2, 4, 13, 6, 4, 1, 4, 6, 8, 12, 2, 4, 2, 2, 13, 7, 12, 11, 5, 9, 1, 12, 9, 10, 9, 2, 11, 10, 11, 12, 8, 11, 12, 12, 11, 8, 7, 10, 11, 5, 2, 11, 5, 10, 13, 2, 11, 13, 11, 9, 4, 1, 6, 11, 9, 3, 4, 11, 3, 10, 6, 6, 4, 7, 6, 9, 6, 5, 5, 3, 6, 2, 2, 13, 7]\n",
      "平均值: 7.39\n",
      "A類不確定度: 0.4\n",
      "真值範圍: 7.0~7.8\n",
      "錯了...\n"
     ]
    }
   ],
   "source": [
    "from playsound import playsound\n",
    "\n",
    "# Generate a list of random integers \n",
    "num_samples = 100\n",
    "poker_list = [random.randint(1, 13) for _ in range(num_samples)]\n",
    "mean = sum(poker_list) / len(poker_list)\n",
    "standard_deviation = np.std(poker_list, ddof=1)\n",
    "a_uncertainty = standard_deviation / np.sqrt(num_samples)\n",
    "print(poker_list)\n",
    "print(f'平均值: {mean}')\n",
    "print(f'A類不確定度: {a_uncertainty:.1f}')\n",
    "print(f'真值範圍: {mean-a_uncertainty:.1f}~{mean+a_uncertainty:.1f}')\n",
    "if(7>mean-a_uncertainty and 7<mean+a_uncertainty):\n",
    "    print('對了！')\n",
    "else:\n",
    "    print('錯了...')"
   ]
  },
  {
   "cell_type": "markdown",
   "metadata": {},
   "source": [
    "##### 不確定度有用嗎？統計正確率"
   ]
  },
  {
   "cell_type": "code",
   "execution_count": null,
   "metadata": {},
   "outputs": [
    {
     "name": "stdout",
     "output_type": "stream",
     "text": [
      "正確率: 95.20%\n"
     ]
    }
   ],
   "source": [
    "import random\n",
    "import numpy as np\n",
    "\n",
    "# number of experiment\n",
    "exp_num = 1000\n",
    "# number of sample\n",
    "num_samples = 100\n",
    "# times of uncertainty\n",
    "times_unc = 2\n",
    "# error counter\n",
    "error_counter = 0\n",
    "# real value\n",
    "real_value = 7\n",
    "for _ in range(exp_num):\n",
    "    poker_list = [random.randint(1, 13) for _ in range(num_samples)]\n",
    "    mean = sum(poker_list) / len(poker_list)\n",
    "    standard_deviation = np.std(poker_list, ddof=1)\n",
    "    a_uncertainty = standard_deviation / np.sqrt(num_samples)\n",
    "    if(real_value<mean-times_unc*a_uncertainty or real_value>mean+times_unc*a_uncertainty):\n",
    "        error_counter+=1\n",
    "print(f\"正確率: {100-error_counter/exp_num*100:.2f}%\")\n",
    "\n"
   ]
  }
 ],
 "metadata": {
  "kernelspec": {
   "display_name": "Python 3",
   "language": "python",
   "name": "python3"
  },
  "language_info": {
   "codemirror_mode": {
    "name": "ipython",
    "version": 3
   },
   "file_extension": ".py",
   "mimetype": "text/x-python",
   "name": "python",
   "nbconvert_exporter": "python",
   "pygments_lexer": "ipython3",
   "version": "3.10.12"
  }
 },
 "nbformat": 4,
 "nbformat_minor": 2
}
